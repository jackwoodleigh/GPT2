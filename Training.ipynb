{
 "cells": [
  {
   "cell_type": "code",
   "execution_count": 8,
   "id": "39b7edaa-25d1-459b-8a56-99cde74aced1",
   "metadata": {},
   "outputs": [],
   "source": [
    "import torch\n",
    "import tiktoken\n",
    "import pandas as pd\n",
    "import numpy as np"
   ]
  },
  {
   "cell_type": "code",
   "execution_count": 36,
   "id": "8f1bfb53-98e2-4fab-aa38-4ccfb0e9f574",
   "metadata": {},
   "outputs": [],
   "source": [
    "df = pd.read_csv(\"bibledata/t_asv.csv\")"
   ]
  },
  {
   "cell_type": "code",
   "execution_count": 38,
   "id": "ff4da133-a4c2-41cb-bb79-6a6628173d3b",
   "metadata": {},
   "outputs": [],
   "source": [
    "df = df[\"t\"].to_numpy()"
   ]
  },
  {
   "cell_type": "code",
   "execution_count": 42,
   "id": "c0ca1a38-4550-4c54-a990-fcb2e9a5d2cd",
   "metadata": {},
   "outputs": [
    {
     "data": {
      "text/plain": [
       "'If thou shalt do this thing, and God command thee so, then thou shalt be able to endure, and all this people also shall go to their place in peace.'"
      ]
     },
     "execution_count": 42,
     "metadata": {},
     "output_type": "execute_result"
    }
   ],
   "source": []
  },
  {
   "cell_type": "code",
   "execution_count": null,
   "id": "02e5ab76-3224-4c7a-9ce5-af6698879a24",
   "metadata": {},
   "outputs": [],
   "source": []
  }
 ],
 "metadata": {
  "kernelspec": {
   "display_name": "Python 3 (ipykernel)",
   "language": "python",
   "name": "python3"
  },
  "language_info": {
   "codemirror_mode": {
    "name": "ipython",
    "version": 3
   },
   "file_extension": ".py",
   "mimetype": "text/x-python",
   "name": "python",
   "nbconvert_exporter": "python",
   "pygments_lexer": "ipython3",
   "version": "3.10.0"
  }
 },
 "nbformat": 4,
 "nbformat_minor": 5
}
